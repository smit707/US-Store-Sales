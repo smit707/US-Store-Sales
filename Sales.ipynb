{
 "cells": [
  {
   "cell_type": "code",
   "execution_count": 1,
   "id": "4a0257be",
   "metadata": {},
   "outputs": [
    {
     "name": "stdout",
     "output_type": "stream",
     "text": [
      "Requirement already satisfied: pymysql in c:\\users\\smit shah\\anaconda3\\lib\\site-packages (1.1.1)\n",
      "Requirement already satisfied: sqlalchemy in c:\\users\\smit shah\\anaconda3\\lib\\site-packages (1.4.39)\n",
      "Requirement already satisfied: greenlet!=0.4.17 in c:\\users\\smit shah\\anaconda3\\lib\\site-packages (from sqlalchemy) (1.1.1)\n",
      "Requirement already satisfied: mysql in c:\\users\\smit shah\\anaconda3\\lib\\site-packages (0.0.3)\n",
      "Requirement already satisfied: mysqlclient in c:\\users\\smit shah\\anaconda3\\lib\\site-packages (from mysql) (2.2.4)\n",
      "Requirement already satisfied: mysql-connector-python in c:\\users\\smit shah\\anaconda3\\lib\\site-packages (9.0.0)\n"
     ]
    }
   ],
   "source": [
    "!pip install pymysql sqlalchemy\n",
    "!pip install mysql\n",
    "!pip install mysql-connector-python"
   ]
  },
  {
   "cell_type": "code",
   "execution_count": 2,
   "id": "37fdb703",
   "metadata": {},
   "outputs": [],
   "source": [
    "import pandas as pd\n",
    "import numpy as np\n",
    "import mysql\n",
    "import mysql.connector"
   ]
  },
  {
   "cell_type": "code",
   "execution_count": 4,
   "id": "965392d5",
   "metadata": {},
   "outputs": [
    {
     "data": {
      "text/plain": [
       "Index(['Row ID', 'Order ID', 'Order Date', 'Ship Date', 'Ship Mode',\n",
       "       'Customer ID', 'Customer Name', 'Segment', 'Country', 'City', 'State',\n",
       "       'Postal Code', 'Region', 'Product ID', 'Category', 'Sub-Category',\n",
       "       'Product Name', 'Cost', 'Price', 'Profit', 'Quantity', 'Sales'],\n",
       "      dtype='object')"
      ]
     },
     "execution_count": 4,
     "metadata": {},
     "output_type": "execute_result"
    }
   ],
   "source": [
    "df = pd.read_csv(\"D:\\MIS\\.UMass\\Projects\\Sales\\sales data.csv\\Dataset\\sales data.csv\")\n",
    "\n",
    "data = pd.DataFrame(df)\n",
    "data.columns"
   ]
  },
  {
   "cell_type": "code",
   "execution_count": 5,
   "id": "0eb5ee08",
   "metadata": {},
   "outputs": [],
   "source": [
    "orders = df[['Order ID', 'Order Date', 'Ship Date', 'Ship Mode']]\n",
    "customers = df[['Customer ID', 'Customer Name', 'Segment', 'City', 'State', 'Postal Code', 'Region', 'Order ID']]\n",
    "products = df[['Product ID', 'Category', 'Sub-Category', 'Product Name', 'Cost', 'Price', 'Profit', 'Quantity', 'Sales', 'Customer ID']]"
   ]
  },
  {
   "cell_type": "code",
   "execution_count": 6,
   "id": "3f9204ad",
   "metadata": {},
   "outputs": [
    {
     "data": {
      "text/html": [
       "<div>\n",
       "<style scoped>\n",
       "    .dataframe tbody tr th:only-of-type {\n",
       "        vertical-align: middle;\n",
       "    }\n",
       "\n",
       "    .dataframe tbody tr th {\n",
       "        vertical-align: top;\n",
       "    }\n",
       "\n",
       "    .dataframe thead th {\n",
       "        text-align: right;\n",
       "    }\n",
       "</style>\n",
       "<table border=\"1\" class=\"dataframe\">\n",
       "  <thead>\n",
       "    <tr style=\"text-align: right;\">\n",
       "      <th></th>\n",
       "      <th>Order ID</th>\n",
       "      <th>Order Date</th>\n",
       "      <th>Ship Date</th>\n",
       "      <th>Ship Mode</th>\n",
       "    </tr>\n",
       "  </thead>\n",
       "  <tbody>\n",
       "    <tr>\n",
       "      <th>0</th>\n",
       "      <td>CA-2017-152156</td>\n",
       "      <td>8/11/17</td>\n",
       "      <td>11/11/17</td>\n",
       "      <td>Second Class</td>\n",
       "    </tr>\n",
       "  </tbody>\n",
       "</table>\n",
       "</div>"
      ],
      "text/plain": [
       "         Order ID Order Date Ship Date     Ship Mode\n",
       "0  CA-2017-152156    8/11/17  11/11/17  Second Class"
      ]
     },
     "execution_count": 6,
     "metadata": {},
     "output_type": "execute_result"
    }
   ],
   "source": [
    "orders.head(1)"
   ]
  },
  {
   "cell_type": "code",
   "execution_count": 7,
   "id": "c565e3a9",
   "metadata": {},
   "outputs": [
    {
     "data": {
      "text/html": [
       "<div>\n",
       "<style scoped>\n",
       "    .dataframe tbody tr th:only-of-type {\n",
       "        vertical-align: middle;\n",
       "    }\n",
       "\n",
       "    .dataframe tbody tr th {\n",
       "        vertical-align: top;\n",
       "    }\n",
       "\n",
       "    .dataframe thead th {\n",
       "        text-align: right;\n",
       "    }\n",
       "</style>\n",
       "<table border=\"1\" class=\"dataframe\">\n",
       "  <thead>\n",
       "    <tr style=\"text-align: right;\">\n",
       "      <th></th>\n",
       "      <th>Customer ID</th>\n",
       "      <th>Customer Name</th>\n",
       "      <th>Segment</th>\n",
       "      <th>City</th>\n",
       "      <th>State</th>\n",
       "      <th>Postal Code</th>\n",
       "      <th>Region</th>\n",
       "      <th>Order ID</th>\n",
       "    </tr>\n",
       "  </thead>\n",
       "  <tbody>\n",
       "    <tr>\n",
       "      <th>0</th>\n",
       "      <td>CG-12520</td>\n",
       "      <td>Claire Gute</td>\n",
       "      <td>Consumer</td>\n",
       "      <td>Henderson</td>\n",
       "      <td>Kentucky</td>\n",
       "      <td>42420.0</td>\n",
       "      <td>South</td>\n",
       "      <td>CA-2017-152156</td>\n",
       "    </tr>\n",
       "  </tbody>\n",
       "</table>\n",
       "</div>"
      ],
      "text/plain": [
       "  Customer ID Customer Name   Segment       City     State  Postal Code  \\\n",
       "0    CG-12520   Claire Gute  Consumer  Henderson  Kentucky      42420.0   \n",
       "\n",
       "  Region        Order ID  \n",
       "0  South  CA-2017-152156  "
      ]
     },
     "execution_count": 7,
     "metadata": {},
     "output_type": "execute_result"
    }
   ],
   "source": [
    "customers.head(1)"
   ]
  },
  {
   "cell_type": "code",
   "execution_count": 8,
   "id": "618254ef",
   "metadata": {},
   "outputs": [
    {
     "data": {
      "text/html": [
       "<div>\n",
       "<style scoped>\n",
       "    .dataframe tbody tr th:only-of-type {\n",
       "        vertical-align: middle;\n",
       "    }\n",
       "\n",
       "    .dataframe tbody tr th {\n",
       "        vertical-align: top;\n",
       "    }\n",
       "\n",
       "    .dataframe thead th {\n",
       "        text-align: right;\n",
       "    }\n",
       "</style>\n",
       "<table border=\"1\" class=\"dataframe\">\n",
       "  <thead>\n",
       "    <tr style=\"text-align: right;\">\n",
       "      <th></th>\n",
       "      <th>Product ID</th>\n",
       "      <th>Category</th>\n",
       "      <th>Sub-Category</th>\n",
       "      <th>Product Name</th>\n",
       "      <th>Cost</th>\n",
       "      <th>Price</th>\n",
       "      <th>Profit</th>\n",
       "      <th>Quantity</th>\n",
       "      <th>Sales</th>\n",
       "      <th>Customer ID</th>\n",
       "    </tr>\n",
       "  </thead>\n",
       "  <tbody>\n",
       "    <tr>\n",
       "      <th>0</th>\n",
       "      <td>FUR-BO-10001798</td>\n",
       "      <td>Furniture</td>\n",
       "      <td>Bookcases</td>\n",
       "      <td>Bush Somerset Collection Bookcase</td>\n",
       "      <td>464.48</td>\n",
       "      <td>901.06</td>\n",
       "      <td>436.58</td>\n",
       "      <td>4</td>\n",
       "      <td>3604.243977</td>\n",
       "      <td>CG-12520</td>\n",
       "    </tr>\n",
       "  </tbody>\n",
       "</table>\n",
       "</div>"
      ],
      "text/plain": [
       "        Product ID   Category Sub-Category                       Product Name  \\\n",
       "0  FUR-BO-10001798  Furniture    Bookcases  Bush Somerset Collection Bookcase   \n",
       "\n",
       "     Cost   Price  Profit  Quantity        Sales Customer ID  \n",
       "0  464.48  901.06  436.58         4  3604.243977    CG-12520  "
      ]
     },
     "execution_count": 8,
     "metadata": {},
     "output_type": "execute_result"
    }
   ],
   "source": [
    "products.head(1)"
   ]
  },
  {
   "cell_type": "code",
   "execution_count": 9,
   "id": "d79cf94a",
   "metadata": {},
   "outputs": [],
   "source": [
    "conn = mysql.connector.connect(\n",
    "    host='localhost',\n",
    "    user='root',\n",
    "    password='Smit@0101'\n",
    ")\n",
    "cursor = conn.cursor()\n",
    "\n",
    "new_database_name = 'store_sales'\n",
    "\n",
    "create_database_query = f\"CREATE DATABASE IF NOT EXISTS `{new_database_name}`;\"\n",
    "cursor.execute(create_database_query)\n",
    "\n",
    "cursor.close()\n",
    "conn.close()"
   ]
  },
  {
   "cell_type": "code",
   "execution_count": 10,
   "id": "d989b430",
   "metadata": {},
   "outputs": [],
   "source": [
    "conn = mysql.connector.connect(\n",
    "    host='localhost',\n",
    "    user='root',\n",
    "    password='Smit@0101',\n",
    "    database='store_sales'\n",
    ")\n",
    "cursor = conn.cursor()\n",
    "\n",
    "############ ORDER TABLE############################\n",
    "table_name = 'orders'  # Use your desired table name\n",
    "\n",
    "# Generate the CREATE TABLE statement based on the DataFrame\n",
    "columns = \", \".join([f\"`{col}` VARCHAR(255)\" if orders[col].dtype == object else f\"`{col}` INT\" for col in orders.columns])\n",
    "create_table_query = f\"CREATE TABLE IF NOT EXISTS `{table_name}` ({columns});\"\n",
    "cursor.execute(create_table_query)\n",
    "\n",
    "# Step 2: Insert the DataFrame into the table\n",
    "# Convert the DataFrame to a list of tuples for bulk insert\n",
    "data_f = [tuple(row) for row in orders.itertuples(index=False, name=None)]\n",
    "\n",
    "# Create the INSERT INTO query dynamically\n",
    "placeholders = \", \".join([\"%s\"] * len(orders.columns))  # Create a placeholder for each column\n",
    "insert_query = f\"INSERT INTO `{table_name}` ({', '.join([f'`{col}`' for col in orders.columns])}) VALUES ({placeholders})\"\n",
    "cursor.executemany(insert_query, data_f)\n",
    "\n",
    "conn.commit()\n",
    "\n",
    "cursor.close()\n",
    "\n",
    "conn.close()"
   ]
  },
  {
   "cell_type": "code",
   "execution_count": 11,
   "id": "6acab0bb",
   "metadata": {},
   "outputs": [],
   "source": [
    "#Replace NaN values with Null values in the table\n",
    "customers = customers.replace({np.nan: None})"
   ]
  },
  {
   "cell_type": "code",
   "execution_count": 12,
   "id": "b1cda5b7",
   "metadata": {},
   "outputs": [],
   "source": [
    "conn = mysql.connector.connect(\n",
    "    host='localhost',\n",
    "    user='root',\n",
    "    password='Smit@0101',\n",
    "    database='store_sales'\n",
    ")\n",
    "cursor = conn.cursor()\n",
    "\n",
    "############ CUSTOMER TABLE############################\n",
    "table_name = 'customers'  # Use your desired table name\n",
    "\n",
    "# Generate the CREATE TABLE statement based on the DataFrame\n",
    "columns = \", \".join([f\"`{col}` VARCHAR(255)\" if customers[col].dtype == object else f\"`{col}` INT\" for col in customers.columns])\n",
    "create_table_query = f\"CREATE TABLE IF NOT EXISTS `{table_name}` ({columns});\"\n",
    "cursor.execute(create_table_query)\n",
    "\n",
    "# Step 2: Insert the DataFrame into the table\n",
    "# Convert the DataFrame to a list of tuples for bulk insert\n",
    "data_f = [tuple(row) for row in customers.itertuples(index=False, name=None)]\n",
    "\n",
    "# Create the INSERT INTO query dynamically\n",
    "placeholders = \", \".join([\"%s\"] * len(customers.columns))  # Create a placeholder for each column\n",
    "insert_query = f\"INSERT INTO `{table_name}` ({', '.join([f'`{col}`' for col in customers.columns])}) VALUES ({placeholders})\"\n",
    "cursor.executemany(insert_query, data_f)\n",
    "\n",
    "conn.commit()\n",
    "\n",
    "cursor.close()\n",
    "\n",
    "conn.close()"
   ]
  },
  {
   "cell_type": "code",
   "execution_count": 13,
   "id": "e8f08b1a",
   "metadata": {},
   "outputs": [],
   "source": [
    "conn = mysql.connector.connect(\n",
    "    host='localhost',\n",
    "    user='root',\n",
    "    password='Smit@0101',\n",
    "    database='store_sales'\n",
    ")\n",
    "cursor = conn.cursor()\n",
    "\n",
    "############ CUSTOMER TABLE############################\n",
    "table_name = 'products'  # Use your desired table name\n",
    "\n",
    "# Generate the CREATE TABLE statement based on the DataFrame\n",
    "columns = \", \".join([f\"`{col}` VARCHAR(255)\" if products[col].dtype == object else f\"`{col}` INT\" for col in products.columns])\n",
    "create_table_query = f\"CREATE TABLE IF NOT EXISTS `{table_name}` ({columns});\"\n",
    "cursor.execute(create_table_query)\n",
    "\n",
    "# Step 2: Insert the DataFrame into the table\n",
    "# Convert the DataFrame to a list of tuples for bulk insert\n",
    "data_f = [tuple(row) for row in products.itertuples(index=False, name=None)]\n",
    "\n",
    "# Create the INSERT INTO query dynamically\n",
    "placeholders = \", \".join([\"%s\"] * len(products.columns))  # Create a placeholder for each column\n",
    "insert_query = f\"INSERT INTO `{table_name}` ({', '.join([f'`{col}`' for col in products.columns])}) VALUES ({placeholders})\"\n",
    "cursor.executemany(insert_query, data_f)\n",
    "\n",
    "conn.commit()\n",
    "\n",
    "cursor.close()\n",
    "\n",
    "conn.close()"
   ]
  },
  {
   "cell_type": "code",
   "execution_count": null,
   "id": "326f44a0",
   "metadata": {},
   "outputs": [],
   "source": []
  }
 ],
 "metadata": {
  "kernelspec": {
   "display_name": "Python 3 (ipykernel)",
   "language": "python",
   "name": "python3"
  },
  "language_info": {
   "codemirror_mode": {
    "name": "ipython",
    "version": 3
   },
   "file_extension": ".py",
   "mimetype": "text/x-python",
   "name": "python",
   "nbconvert_exporter": "python",
   "pygments_lexer": "ipython3",
   "version": "3.9.13"
  }
 },
 "nbformat": 4,
 "nbformat_minor": 5
}
